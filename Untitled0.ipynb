{
  "nbformat": 4,
  "nbformat_minor": 0,
  "metadata": {
    "colab": {
      "provenance": [],
      "toc_visible": true,
      "authorship_tag": "ABX9TyMo6fe/TeHEwIH8Khez2btA",
      "include_colab_link": true
    },
    "kernelspec": {
      "name": "python3",
      "display_name": "Python 3"
    },
    "language_info": {
      "name": "python"
    }
  },
  "cells": [
    {
      "cell_type": "markdown",
      "metadata": {
        "id": "view-in-github",
        "colab_type": "text"
      },
      "source": [
        "<a href=\"https://colab.research.google.com/github/Darkblack595/Nuevo-IO-1-Grupo-01/blob/main/Untitled0.ipynb\" target=\"_parent\"><img src=\"https://colab.research.google.com/assets/colab-badge.svg\" alt=\"Open In Colab\"/></a>"
      ]
    },
    {
      "cell_type": "code",
      "execution_count": null,
      "metadata": {
        "id": "X7ddlHFzx2X0"
      },
      "outputs": [],
      "source": []
    },
    {
      "cell_type": "markdown",
      "source": [
        "# Esto es un titulo"
      ],
      "metadata": {
        "id": "p_ROZCm4yMpm"
      }
    },
    {
      "cell_type": "markdown",
      "source": [
        "## Esto es un subtitulo"
      ],
      "metadata": {
        "id": "oDKjiHtZyY4M"
      }
    },
    {
      "cell_type": "code",
      "source": [
        "print(\"Hola, mundo\")"
      ],
      "metadata": {
        "colab": {
          "base_uri": "https://localhost:8080/"
        },
        "id": "PyJVHiGzystu",
        "outputId": "74c418cb-a9f4-4519-c85b-ebc29805ec6c"
      },
      "execution_count": 2,
      "outputs": [
        {
          "output_type": "stream",
          "name": "stdout",
          "text": [
            "Hola, mundo\n"
          ]
        }
      ]
    }
  ]
}